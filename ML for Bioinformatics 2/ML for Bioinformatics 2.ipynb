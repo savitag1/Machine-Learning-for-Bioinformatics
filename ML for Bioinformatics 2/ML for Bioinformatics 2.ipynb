{
 "cells": [
  {
   "cell_type": "markdown",
   "id": "61275829-cb11-491e-a152-667037f0f237",
   "metadata": {},
   "source": [
    "# MScBMI 33200 – Assignment II\n",
    "### Savita K Gupta\n",
    "### 24 April 2023"
   ]
  },
  {
   "cell_type": "code",
   "execution_count": null,
   "id": "5d0f18a5-e8d6-4303-9b18-f90e2763be70",
   "metadata": {},
   "outputs": [],
   "source": [
    "#Imports\n",
    "\n",
    "import numpy as np\n",
    "import pandas as pd\n",
    "from scipy.stats import sem\n",
    "import seaborn as sns\n",
    "import matplotlib.pyplot as plt\n",
    "\n",
    "from sklearn.linear_model import LogisticRegression\n",
    "from sklearn.linear_model import LogisticRegressionCV\n",
    "from sklearn.linear_model import Ridge\n",
    "from sklearn.linear_model import RidgeCV\n",
    "from sklearn.neural_network import MLPClassifier\n",
    "\n",
    "from sklearn.model_selection import train_test_split\n",
    "from sklearn.preprocessing import LabelEncoder\n",
    "from sklearn.preprocessing import StandardScaler\n",
    "from sklearn.metrics import roc_auc_score\n",
    "from sklearn.metrics import accuracy_score\n",
    "from sklearn.metrics import precision_score\n",
    "from sklearn.metrics import recall_score\n",
    "from sklearn.metrics import f1_score\n",
    "\n",
    "from sklearn.model_selection import GridSearchCV\n",
    "\n",
    "from sklearn.ensemble import RandomForestClassifier\n",
    "from sklearn.ensemble import GradientBoostingClassifier "
   ]
  },
  {
   "cell_type": "markdown",
   "id": "a081050a-4426-482a-973b-f94d74754e92",
   "metadata": {},
   "source": [
    "## Section 1: ER Bots 30-Day Readmission Study"
   ]
  },
  {
   "cell_type": "markdown",
   "id": "7327b4bb-ca35-4e8d-900c-10aac2e3db51",
   "metadata": {},
   "source": [
    "### Question 1 - The Naive Model"
   ]
  },
  {
   "cell_type": "code",
   "execution_count": null,
   "id": "97e7e6ea-b7e1-440a-88f7-6bee235f6d35",
   "metadata": {},
   "outputs": [],
   "source": [
    "# Import training dataset\n",
    "\n",
    "rm_train_full = pd.read_csv(r'C:\\Users\\vitak\\Downloads\\readmission_train.csv')\n",
    "#rm_train_full.info()"
   ]
  },
  {
   "cell_type": "code",
   "execution_count": null,
   "id": "66e7f5ed-e7d0-4554-a0f6-a060743f74a4",
   "metadata": {},
   "outputs": [],
   "source": [
    "# Setup xTrain and yTrain\n",
    "\n",
    "rm_n = rm_train_full.drop(rm_train_full.columns[[2,3,4,5,6,7,8,9,10,11,12,13,14,15,16,17]], axis=1)\n",
    "\n",
    "rm_Xtrain_n = rm_n.drop([\"outcome\"], axis=1)\n",
    "rm_Ytrain_n = rm_n['outcome']"
   ]
  },
  {
   "cell_type": "code",
   "execution_count": null,
   "id": "d1e63f7d-a02e-4c76-bb40-0afd4458b922",
   "metadata": {},
   "outputs": [],
   "source": [
    "# Import testing dataset\n",
    "\n",
    "rm_test_full = pd.read_csv(r'C:\\Users\\vitak\\Downloads\\readmission_test.csv')\n",
    "#rm_train_full.info()"
   ]
  },
  {
   "cell_type": "code",
   "execution_count": null,
   "id": "f92221fa-aaf6-4ede-ac89-339e18fffcf7",
   "metadata": {},
   "outputs": [],
   "source": [
    "#Setup xTest and yTest\n",
    "\n",
    "rm_n_test = rm_test_full.drop(rm_train_full.columns[[2,3,4,5,6,7,8,9,10,11,12,13,14,15,16,17]], axis=1)\n",
    "\n",
    "rm_Xtest_n = rm_n_test.drop([\"outcome\"], axis=1)\n",
    "rm_Ytest_n = rm_n_test['outcome']"
   ]
  },
  {
   "cell_type": "code",
   "execution_count": null,
   "id": "d83825b9-6071-4238-a08e-f30c5a5b44fa",
   "metadata": {},
   "outputs": [],
   "source": [
    "# Run logistic regression\n",
    "\n",
    "#naive_lr = LogisticRegression(penalty='l2', max_iter = 10000)\n",
    "naive_model = LogisticRegression(penalty='none', max_iter = 10000)\n",
    "naive_model.fit(rm_Xtrain_n, rm_Ytrain_n)"
   ]
  },
  {
   "cell_type": "code",
   "execution_count": null,
   "id": "c21bb1af-6eb7-4d56-85e1-970b45e0a54d",
   "metadata": {},
   "outputs": [],
   "source": [
    "#Calculate AUC using predict_proba\n",
    "\n",
    "naive_model_prediction = naive_model.predict_proba(rm_Xtest_n)\n",
    "print(\"Naive Model train set AUC score - with predict proba: %f\" % roc_auc_score(rm_Ytest_n, naive_model_prediction[:,1]))"
   ]
  },
  {
   "cell_type": "code",
   "execution_count": null,
   "id": "1133f78e-b032-4b70-8a2b-7012a7fb62c7",
   "metadata": {
    "tags": []
   },
   "outputs": [],
   "source": [
    "# Calculate Confidence Interval using bootstrap for Naive model\n",
    "\n",
    "#Y train value for Naive model\n",
    "y_true_n = np.array(rm_Ytest_n)\n",
    "\n",
    "#Predict_proba value for Naive model\n",
    "y_pred_n = np.array(naive_model_prediction[:,1])\n",
    "\n",
    "\n",
    "n_bootstraps = 100\n",
    "rng_seed = 42  # control reproducibility\n",
    "bootstrapped_scores = []\n",
    "\n",
    "\n",
    "rng = np.random.RandomState(rng_seed)\n",
    "\n",
    "for i in range(n_bootstraps):\n",
    "    indices = rng.randint(0, len(y_pred_n), len(y_pred_n))\n",
    "    if len(np.unique(y_true_n[indices])) < 2:\n",
    "        continue\n",
    "\n",
    "    score = roc_auc_score(y_true_n[indices], y_pred_n[indices])\n",
    "    bootstrapped_scores.append(score)\n",
    "    \n",
    "sorted_scores = np.array(bootstrapped_scores)\n",
    "sorted_scores.sort()\n",
    "\n",
    "con_low_n = sorted_scores[int(0.05 * len(sorted_scores))]\n",
    "con_up_n = sorted_scores[int(0.95 * len(sorted_scores))]\n",
    "print(\"Confidence interval for the score: [{:0.5f} - {:0.5}]\".format(con_low_n, con_up_n))"
   ]
  },
  {
   "cell_type": "markdown",
   "id": "3d79b0ba-7546-4e57-89aa-a9b87f660703",
   "metadata": {},
   "source": [
    "### Question 2 - The Logistic Regression Model"
   ]
  },
  {
   "cell_type": "code",
   "execution_count": null,
   "id": "5857159f-2b1d-44de-a8c6-d897946a0bf8",
   "metadata": {},
   "outputs": [],
   "source": [
    "# Setup xTrain and yTrain\n",
    "\n",
    "rm_lr_train = rm_train_full.drop_duplicates(keep='last')\n",
    "\n",
    "rm_Xtrain_lr = rm_lr_train.drop([\"outcome\"], axis=1)\n",
    "rm_Ytrain_lr = rm_lr_train['outcome']"
   ]
  },
  {
   "cell_type": "code",
   "execution_count": null,
   "id": "c976ca4c-0034-4d83-a4ce-3f6f202c8420",
   "metadata": {},
   "outputs": [],
   "source": [
    "#Setup xTest and yTest\n",
    "\n",
    "rm_lr_test = rm_test_full.drop_duplicates(keep='last')\n",
    "\n",
    "rm_Xtest_lr = rm_lr_test.drop([\"outcome\"], axis=1)\n",
    "rm_Ytest_lr = rm_lr_test['outcome']"
   ]
  },
  {
   "cell_type": "code",
   "execution_count": null,
   "id": "cf380719-7f53-4742-ad55-32cb085d2286",
   "metadata": {},
   "outputs": [],
   "source": [
    "# Run logistic regression\n",
    "\n",
    "lr_model = LogisticRegressionCV(cv=5,penalty='l2', max_iter = 10000)\n",
    "\n",
    "lr_model.fit(rm_Xtrain_lr, rm_Ytrain_lr)"
   ]
  },
  {
   "cell_type": "code",
   "execution_count": null,
   "id": "b3ca21de-7c85-45a5-b36e-68caec891fa5",
   "metadata": {},
   "outputs": [],
   "source": [
    "#Calculate AUC using predict_proba\n",
    "\n",
    "lr_model_prediction = lr_model.predict_proba(rm_Xtest_lr)\n",
    "print(\"Logistic Regression train set AUC score (Logistic Regression - with predict proba): %f\" % roc_auc_score(rm_Ytest_lr, lr_model_prediction[:,1]))"
   ]
  },
  {
   "cell_type": "code",
   "execution_count": null,
   "id": "aaf52db9-aea0-4c8b-a5d5-4fc0a6a723fc",
   "metadata": {},
   "outputs": [],
   "source": [
    "# Calculate Confidence Interval using bootstrap for Logistic Regression model\n",
    "\n",
    "#Y train value for Logistic Regression model\n",
    "y_true_lr = np.array(rm_Ytest_lr)\n",
    "\n",
    "#Predict_proba value for Logistic Regression model\n",
    "y_pred_lr = np.array(lr_model_prediction[:,1])\n",
    "\n",
    "\n",
    "n_bootstraps = 100\n",
    "rng_seed = 42  # control reproducibility\n",
    "bootstrapped_scores = []\n",
    "\n",
    "\n",
    "rng = np.random.RandomState(rng_seed)\n",
    "\n",
    "for i in range(n_bootstraps):\n",
    "    indices = rng.randint(0, len(y_pred_lr), len(y_pred_lr))\n",
    "    if len(np.unique(y_true_lr[indices])) < 2:\n",
    "        continue\n",
    "\n",
    "    score = roc_auc_score(y_true_lr[indices], y_pred_lr[indices])\n",
    "    bootstrapped_scores.append(score)\n",
    "    \n",
    "sorted_scores = np.array(bootstrapped_scores)\n",
    "sorted_scores.sort()\n",
    "\n",
    "con_low_lr = sorted_scores[int(0.05 * len(sorted_scores))]\n",
    "con_up_lr = sorted_scores[int(0.95 * len(sorted_scores))]\n",
    "print(\"Confidence interval for the score: [{:0.5f} - {:0.5}]\".format(con_low_lr, con_up_lr))"
   ]
  },
  {
   "cell_type": "markdown",
   "id": "13840707-eb42-4ccf-bee6-570fa8d10ac5",
   "metadata": {},
   "source": [
    "## Section 2: GUSTO Study"
   ]
  },
  {
   "cell_type": "markdown",
   "id": "70efe0d8-5580-42b6-bdec-b4a321503991",
   "metadata": {},
   "source": [
    "### Question 1 - Random Forest Model"
   ]
  },
  {
   "cell_type": "code",
   "execution_count": null,
   "id": "6aa54d96-057c-46de-a6c1-521061a9b2fb",
   "metadata": {},
   "outputs": [],
   "source": [
    "# Import Data\n",
    "\n",
    "g_train = pd.read_csv(r'C:\\Users\\vitak\\Downloads\\gusto_train.csv')\n",
    "g_test = pd.read_csv(r'C:\\Users\\vitak\\Downloads\\gusto_test.csv')"
   ]
  },
  {
   "cell_type": "code",
   "execution_count": null,
   "id": "746efbc6-828e-4285-ab7f-211b47e2961e",
   "metadata": {},
   "outputs": [],
   "source": [
    "# Setup xTrain and yTrain\n",
    "\n",
    "g_Xtrain = g_train.drop([\"DAY30\"], axis=1)\n",
    "g_Ytrain = g_train['DAY30']"
   ]
  },
  {
   "cell_type": "code",
   "execution_count": null,
   "id": "1e854b1e-13a0-41c8-9895-dc405373dd44",
   "metadata": {},
   "outputs": [],
   "source": [
    "# Setup xTest and yTest\n",
    "\n",
    "g_Xtest = g_test.drop([\"DAY30\"], axis=1)\n",
    "g_Ytest = g_test['DAY30']"
   ]
  },
  {
   "cell_type": "code",
   "execution_count": null,
   "id": "bad7291a-2166-4376-ab45-922004d13ba6",
   "metadata": {},
   "outputs": [],
   "source": [
    "# Create random forest classifier model\n",
    "\n",
    "g_rfClassifier = RandomForestClassifier(random_state=None, n_estimators=1000)\n",
    "\n",
    "g_rfClassifier.fit(g_Xtrain,g_Ytrain)"
   ]
  },
  {
   "cell_type": "code",
   "execution_count": null,
   "id": "be50e8f9-5f97-400f-af9b-6158b246a73f",
   "metadata": {},
   "outputs": [],
   "source": [
    "#Calculate AUC using predict_proba\n",
    "\n",
    "g_rf_prediction = g_rfClassifier.predict_proba(g_Xtest)\n",
    "print(\"Random Forest train set AUC score: %f\" % roc_auc_score(g_Ytest, g_rf_prediction[:,1]))"
   ]
  },
  {
   "cell_type": "code",
   "execution_count": null,
   "id": "efbd74ee-488e-41fb-a158-a38e55aa0c99",
   "metadata": {},
   "outputs": [],
   "source": [
    "# Calculate Confidence Interval using bootstrap for Random Forest Model\n",
    "\n",
    "#Y train value for Random Forest model\n",
    "y_true_rf = np.array(g_Ytest)\n",
    "\n",
    "#Predict_proba value for Rain Forest Model model\n",
    "y_pred_rf = np.array(g_rf_prediction[:,1])\n",
    "\n",
    "\n",
    "n_bootstraps = 100\n",
    "rng_seed = 42  # control reproducibility\n",
    "bootstrapped_scores = []\n",
    "\n",
    "\n",
    "rng = np.random.RandomState(rng_seed)\n",
    "\n",
    "for i in range(n_bootstraps):\n",
    "    indices = rng.randint(0, len(y_pred_rf), len(y_pred_rf))\n",
    "    if len(np.unique(y_true_rf[indices])) < 2:\n",
    "        continue\n",
    "\n",
    "    score = roc_auc_score(y_true_rf[indices], y_pred_rf[indices])\n",
    "    bootstrapped_scores.append(score)\n",
    "    \n",
    "sorted_scores = np.array(bootstrapped_scores)\n",
    "sorted_scores.sort()\n",
    "\n",
    "con_low_rf = sorted_scores[int(0.05 * len(sorted_scores))]\n",
    "con_up_rf = sorted_scores[int(0.95 * len(sorted_scores))]\n",
    "print(\"Confidence interval for the score: [{:0.5f} - {:0.5}]\".format(con_low_rf, con_up_rf))"
   ]
  },
  {
   "cell_type": "markdown",
   "id": "01420878-d27e-4990-a53a-a5c54060022d",
   "metadata": {},
   "source": [
    "### Question 2 - Gradient Boosted Machine Model"
   ]
  },
  {
   "cell_type": "code",
   "execution_count": null,
   "id": "58be9cdb-c178-4a63-9262-e9f40f25d69d",
   "metadata": {},
   "outputs": [],
   "source": [
    "# Create a GBM Model\n",
    "\n",
    "g_gbm = GradientBoostingClassifier()\n",
    "\n",
    "g_gbm.fit(g_Xtrain,g_Ytrain)"
   ]
  },
  {
   "cell_type": "code",
   "execution_count": null,
   "id": "d00f1aaf-ada0-45bb-b8ec-12ee6b933ddc",
   "metadata": {},
   "outputs": [],
   "source": [
    "#Calculate AUC using predict_proba\n",
    "\n",
    "g_gbm_prediction = g_gbm.predict_proba(g_Xtest)\n",
    "print(\"Gradient Boosted Machine train set AUC score: %f\" % roc_auc_score(g_Ytest, g_gbm_prediction[:,1]))"
   ]
  },
  {
   "cell_type": "code",
   "execution_count": null,
   "id": "46f079c5-f692-4ea6-bb18-13912180565f",
   "metadata": {},
   "outputs": [],
   "source": [
    "# Calculate Confidence Interval using bootstrap for GBM Model\n",
    "\n",
    "#Y train value for GBM model\n",
    "y_true_gbm = np.array(g_Ytest)\n",
    "\n",
    "#Predict_proba value for Rain Forest Model model\n",
    "y_pred_gbm = np.array(g_gbm_prediction[:,1])\n",
    "\n",
    "\n",
    "n_bootstraps = 100\n",
    "rng_seed = 42  # control reproducibility\n",
    "bootstrapped_scores = []\n",
    "\n",
    "\n",
    "rng = np.random.RandomState(rng_seed)\n",
    "\n",
    "for i in range(n_bootstraps):\n",
    "    indices = rng.randint(0, len(y_pred_gbm), len(y_pred_gbm))\n",
    "    if len(np.unique(y_true_gbm[indices])) < 2:\n",
    "        continue\n",
    "\n",
    "    score = roc_auc_score(y_true_gbm[indices], y_pred_gbm[indices])\n",
    "    bootstrapped_scores.append(score)\n",
    "    \n",
    "sorted_scores = np.array(bootstrapped_scores)\n",
    "sorted_scores.sort()\n",
    "\n",
    "con_low_gbm = sorted_scores[int(0.05 * len(sorted_scores))]\n",
    "con_up_gbm = sorted_scores[int(0.95 * len(sorted_scores))]\n",
    "print(\"Confidence interval for the score: [{:0.5f} - {:0.5}]\".format(con_low_gbm, con_up_gbm))"
   ]
  }
 ],
 "metadata": {
  "kernelspec": {
   "display_name": "Python 3 (ipykernel)",
   "language": "python",
   "name": "python3"
  },
  "language_info": {
   "codemirror_mode": {
    "name": "ipython",
    "version": 3
   },
   "file_extension": ".py",
   "mimetype": "text/x-python",
   "name": "python",
   "nbconvert_exporter": "python",
   "pygments_lexer": "ipython3",
   "version": "3.10.9"
  }
 },
 "nbformat": 4,
 "nbformat_minor": 5
}
