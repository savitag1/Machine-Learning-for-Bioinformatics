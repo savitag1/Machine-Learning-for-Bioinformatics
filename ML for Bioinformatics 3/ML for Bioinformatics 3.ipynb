{
 "cells": [
  {
   "cell_type": "markdown",
   "id": "61275829-cb11-491e-a152-667037f0f237",
   "metadata": {},
   "source": [
    "# MScBMI 33200 – Assignment III\n",
    "### Savita K Gupta\n",
    "### 17 May 2023"
   ]
  },
  {
   "cell_type": "code",
   "execution_count": null,
   "id": "5d0f18a5-e8d6-4303-9b18-f90e2763be70",
   "metadata": {},
   "outputs": [],
   "source": [
    "#Imports\n",
    "\n",
    "import numpy as np\n",
    "import pandas as pd\n",
    "from scipy.stats import sem\n",
    "import seaborn as sns\n",
    "import matplotlib.pyplot as plt\n",
    "\n",
    "from sklearn.linear_model import LogisticRegression\n",
    "from sklearn.linear_model import LogisticRegressionCV\n",
    "from sklearn.linear_model import Ridge\n",
    "from sklearn.linear_model import RidgeCV\n",
    "\n",
    "from sklearn.preprocessing import LabelEncoder\n",
    "from sklearn.preprocessing import StandardScaler\n",
    "\n",
    "from sklearn.metrics import roc_auc_score\n",
    "from sklearn.metrics import accuracy_score\n",
    "from sklearn.metrics import precision_score\n",
    "from sklearn.metrics import recall_score\n",
    "from sklearn.metrics import f1_score\n",
    "\n",
    "from sklearn.ensemble import RandomForestClassifier\n",
    "from sklearn.ensemble import GradientBoostingClassifier \n",
    "\n",
    "from sklearn.model_selection import GridSearchCV\n",
    "from sklearn.model_selection import train_test_split\n",
    "from sklearn.model_selection import KFold\n",
    "from sklearn.model_selection import cross_val_score\n",
    "\n",
    "from sklearn.neural_network import MLPClassifier"
   ]
  },
  {
   "cell_type": "markdown",
   "id": "a081050a-4426-482a-973b-f94d74754e92",
   "metadata": {},
   "source": [
    "## Section 1: ER Bots 30-Day Readmission Study"
   ]
  },
  {
   "cell_type": "markdown",
   "id": "7327b4bb-ca35-4e8d-900c-10aac2e3db51",
   "metadata": {},
   "source": [
    "### S1 Question 1: Naive Model"
   ]
  },
  {
   "cell_type": "code",
   "execution_count": null,
   "id": "97e7e6ea-b7e1-440a-88f7-6bee235f6d35",
   "metadata": {},
   "outputs": [],
   "source": [
    "# Import train and test dataset\n",
    "\n",
    "rm_train_full = pd.read_csv(r'C:\\Users\\vitak\\Downloads\\readmission_train.csv')\n",
    "rm_test_full = pd.read_csv(r'C:\\Users\\vitak\\Downloads\\readmission_test.csv')"
   ]
  },
  {
   "cell_type": "code",
   "execution_count": null,
   "id": "66e7f5ed-e7d0-4554-a0f6-a060743f74a4",
   "metadata": {},
   "outputs": [],
   "source": [
    "# Setup xTrain and yTrain\n",
    "\n",
    "rm_n = rm_train_full.drop(rm_train_full.columns[[2,3,4,5,6,7,8,9,10,11,12,13,14,15,16,17]], axis=1)\n",
    "\n",
    "rm_Xtrain_n = rm_n.drop([\"outcome\"], axis=1)\n",
    "rm_Ytrain_n = rm_n['outcome']"
   ]
  },
  {
   "cell_type": "code",
   "execution_count": null,
   "id": "d1e63f7d-a02e-4c76-bb40-0afd4458b922",
   "metadata": {},
   "outputs": [],
   "source": [
    "#Setup xTest and yTest\n",
    "\n",
    "rm_n_test = rm_test_full.drop(rm_train_full.columns[[2,3,4,5,6,7,8,9,10,11,12,13,14,15,16,17]], axis=1)\n",
    "\n",
    "rm_Xtest_n = rm_n_test.drop([\"outcome\"], axis=1)\n",
    "rm_Ytest_n = rm_n_test['outcome']"
   ]
  },
  {
   "cell_type": "code",
   "execution_count": null,
   "id": "f92221fa-aaf6-4ede-ac89-339e18fffcf7",
   "metadata": {},
   "outputs": [],
   "source": [
    "# Run logistic regression\n",
    "\n",
    "naive_model = LogisticRegression()\n",
    "naive_model.fit(rm_Xtrain_n, rm_Ytrain_n)"
   ]
  },
  {
   "cell_type": "code",
   "execution_count": null,
   "id": "c21bb1af-6eb7-4d56-85e1-970b45e0a54d",
   "metadata": {},
   "outputs": [],
   "source": [
    "#Calculate AUC using predict_proba\n",
    "\n",
    "naive_model_prediction = naive_model.predict_proba(rm_Xtest_n)\n",
    "print(\"Naive Model train set AUC score - with predict proba: %f\" % roc_auc_score(rm_Ytest_n, naive_model_prediction[:,1]))"
   ]
  },
  {
   "cell_type": "code",
   "execution_count": null,
   "id": "1133f78e-b032-4b70-8a2b-7012a7fb62c7",
   "metadata": {
    "tags": []
   },
   "outputs": [],
   "source": [
    "# Calculate Confidence Interval using bootstrap for Naive model\n",
    "\n",
    "#Y train value for Naive model\n",
    "y_true_n = np.array(rm_Ytest_n)\n",
    "\n",
    "#Predict_proba value for Naive model\n",
    "y_pred_n = np.array(naive_model_prediction[:,1])\n",
    "\n",
    "\n",
    "n_bootstraps = 100\n",
    "rng_seed = 42  # control reproducibility\n",
    "bootstrapped_scores = []\n",
    "\n",
    "\n",
    "rng = np.random.RandomState(rng_seed)\n",
    "\n",
    "for i in range(n_bootstraps):\n",
    "    indices = rng.randint(0, len(y_pred_n), len(y_pred_n))\n",
    "    if len(np.unique(y_true_n[indices])) < 2:\n",
    "        continue\n",
    "\n",
    "    score = roc_auc_score(y_true_n[indices], y_pred_n[indices])\n",
    "    bootstrapped_scores.append(score)\n",
    "    \n",
    "sorted_scores = np.array(bootstrapped_scores)\n",
    "sorted_scores.sort()\n",
    "\n",
    "con_low_n = sorted_scores[int(0.05 * len(sorted_scores))]\n",
    "con_up_n = sorted_scores[int(0.95 * len(sorted_scores))]\n",
    "print(\"Confidence interval for the score: [{:0.5f} - {:0.5}]\".format(con_low_n, con_up_n))"
   ]
  },
  {
   "cell_type": "code",
   "execution_count": null,
   "id": "a87aa44d-07ed-4ce6-be6f-5c48222d6bec",
   "metadata": {},
   "outputs": [],
   "source": [
    "### Cross Validation: Naive Model"
   ]
  },
  {
   "cell_type": "code",
   "execution_count": null,
   "id": "21a193e5-868b-42cb-bd53-699e042ae472",
   "metadata": {},
   "outputs": [],
   "source": [
    "#Cross Validation with kfold\n",
    "k = 5\n",
    "rm_kf = KFold(n_splits=k, random_state=None)\n",
    "rm_model = LogisticRegression(solver= 'liblinear')\n",
    "\n",
    "result = cross_val_score(rm_model , rm_Xtest_n, rm_Ytest_n, cv = rm_kf)\n",
    "print(\"Avg accuracy: {}\".format(result.mean()))"
   ]
  },
  {
   "cell_type": "code",
   "execution_count": null,
   "id": "16715654-ce30-445d-9424-b9344a45afa7",
   "metadata": {},
   "outputs": [],
   "source": [
    "#LogisticRegressionCV (KFold=5)\n",
    "\n",
    "rm_log_cv = LogisticRegressionCV(cv=5, random_state = 0)\n",
    "rm_log_cv.fit(rm_Xtrain_n, rm_Ytrain_n)\n",
    "\n",
    "rm_log_cv_predict = rm_log_cv.predict_proba(rm_Xtest_n)\n",
    "\n",
    "rm_n_auc = roc_auc_score(rm_Ytest_n, rm_log_cv_predict[:,1])\n",
    "print(\"Naive Model training AUC (with Kfold CV): %f\" % rm_n_auc)"
   ]
  },
  {
   "cell_type": "code",
   "execution_count": null,
   "id": "88bc9d3d-4567-4fde-973b-fa60be619efc",
   "metadata": {},
   "outputs": [],
   "source": [
    "# Calculate Confidence Interval using bootstrap for Naive model (with LogReg Kfold CV)\n",
    "\n",
    "#Y train value for Naive model\n",
    "y_true_n = np.array(rm_Ytest_n)\n",
    "\n",
    "#Predict_proba value for Naive model\n",
    "y_pred_n = np.array(rm_log_cv_predict[:,1])\n",
    "\n",
    "\n",
    "n_bootstraps = 100\n",
    "rng_seed = 42  # control reproducibility\n",
    "bootstrapped_scores = []\n",
    "\n",
    "\n",
    "rng = np.random.RandomState(rng_seed)\n",
    "\n",
    "for i in range(n_bootstraps):\n",
    "    indices = rng.randint(0, len(y_pred_n), len(y_pred_n))\n",
    "    if len(np.unique(y_true_n[indices])) < 2:\n",
    "        continue\n",
    "\n",
    "    score = roc_auc_score(y_true_n[indices], y_pred_n[indices])\n",
    "    bootstrapped_scores.append(score)\n",
    "    \n",
    "sorted_scores = np.array(bootstrapped_scores)\n",
    "sorted_scores.sort()\n",
    "\n",
    "cv_con_low_n = sorted_scores[int(0.05 * len(sorted_scores))]\n",
    "cv_con_up_n = sorted_scores[int(0.95 * len(sorted_scores))]\n",
    "print(\"Confidence interval for the score: [{:0.5f} - {:0.5}]\".format(cv_con_low_n, cv_con_up_n))"
   ]
  },
  {
   "cell_type": "markdown",
   "id": "3d79b0ba-7546-4e57-89aa-a9b87f660703",
   "metadata": {},
   "source": [
    "### S1 Question 2: GLM Model"
   ]
  },
  {
   "cell_type": "code",
   "execution_count": null,
   "id": "5857159f-2b1d-44de-a8c6-d897946a0bf8",
   "metadata": {},
   "outputs": [],
   "source": [
    "# Setup xTrain and yTrain\n",
    "\n",
    "rm_lr_train = rm_train_full.drop_duplicates(keep='last')\n",
    "\n",
    "rm_Xtrain_lr = rm_lr_train.drop([\"outcome\"], axis=1)\n",
    "rm_Ytrain_lr = rm_lr_train['outcome']"
   ]
  },
  {
   "cell_type": "code",
   "execution_count": null,
   "id": "c976ca4c-0034-4d83-a4ce-3f6f202c8420",
   "metadata": {},
   "outputs": [],
   "source": [
    "# Run logistic regression\n",
    "\n",
    "lr_model = LogisticRegression()\n",
    "lr_model.fit(rm_Xtrain_lr, rm_Ytrain_lr)"
   ]
  },
  {
   "cell_type": "code",
   "execution_count": null,
   "id": "cf380719-7f53-4742-ad55-32cb085d2286",
   "metadata": {},
   "outputs": [],
   "source": [
    "#Calculate AUC\n",
    "\n",
    "lr_model_prediction = lr_model.predict_proba(rm_Xtest_lr)\n",
    "print(\"Logistic Regression train set AUC score: %f\" % roc_auc_score(rm_Ytest_lr, lr_model_prediction[:,1]))"
   ]
  },
  {
   "cell_type": "code",
   "execution_count": null,
   "id": "b3ca21de-7c85-45a5-b36e-68caec891fa5",
   "metadata": {},
   "outputs": [],
   "source": [
    "# Calculate Confidence Interval using bootstrap for Logistic Regression model\n",
    "\n",
    "#Y train value for Logistic Regression model\n",
    "y_true_lr = np.array(rm_Ytest_lr)\n",
    "\n",
    "#Predict_proba value for Logistic Regression model\n",
    "y_pred_lr = np.array(lr_model_prediction[:,1])\n",
    "\n",
    "n_bootstraps = 100\n",
    "rng_seed = 42  # control reproducibility\n",
    "bootstrapped_scores = []\n",
    "\n",
    "rng = np.random.RandomState(rng_seed)\n",
    "\n",
    "for i in range(n_bootstraps):\n",
    "    indices = rng.randint(0, len(y_pred_lr), len(y_pred_lr))\n",
    "    if len(np.unique(y_true_lr[indices])) < 2:\n",
    "        continue\n",
    "\n",
    "    score = roc_auc_score(y_true_lr[indices], y_pred_lr[indices])\n",
    "    bootstrapped_scores.append(score)\n",
    "    \n",
    "sorted_scores = np.array(bootstrapped_scores)\n",
    "sorted_scores.sort()\n",
    "\n",
    "con_low_lr = sorted_scores[int(0.05 * len(sorted_scores))]\n",
    "con_up_lr = sorted_scores[int(0.95 * len(sorted_scores))]\n",
    "print(\"Confidence interval for the score: [{:0.5f} - {:0.5}]\".format(con_low_lr, con_up_lr))"
   ]
  },
  {
   "cell_type": "markdown",
   "id": "1025bc2c-3fb9-4146-a946-3528836d5c7e",
   "metadata": {},
   "source": [
    "### Cross Validation: GLM Model"
   ]
  },
  {
   "cell_type": "code",
   "execution_count": null,
   "id": "53c43a20-49fb-49d3-b942-47e75ae06434",
   "metadata": {},
   "outputs": [],
   "source": [
    "#Cross Validation with kfold\n",
    "k = 5\n",
    "rm_kf_lr = KFold(n_splits=k, random_state=None)\n",
    "rm_model_lr = LogisticRegression(solver= 'liblinear')\n",
    "\n",
    "result_lr = cross_val_score(lr_model , rm_Xtest_lr, rm_Ytest_lr, cv = rm_kf_lr)\n",
    "print(\"Avg accuracy: {}\".format(result_lr.mean()))"
   ]
  },
  {
   "cell_type": "code",
   "execution_count": null,
   "id": "a04ff13e-5e42-4778-a6a5-36256ee5e520",
   "metadata": {},
   "outputs": [],
   "source": [
    "#LogisticRegressionCV (KFold=5)\n",
    "\n",
    "lr_log_cv = LogisticRegressionCV(cv=5, random_state = 0)\n",
    "lr_log_cv.fit(rm_Xtrain_lr, rm_Ytrain_lr)\n",
    "\n",
    "lr_log_cv_predict = lr_log_cv.predict_proba(rm_Xtest_lr)\n",
    "\n",
    "rm_lr_auc = roc_auc_score(rm_Ytest_lr, lr_log_cv_predict[:,1])\n",
    "print(\"GLM Model training AUC (with Kfold CV): %f\" % rm_lr_auc)"
   ]
  },
  {
   "cell_type": "code",
   "execution_count": null,
   "id": "18d92ccd-96cb-498a-99bc-7abe8c819702",
   "metadata": {},
   "outputs": [],
   "source": [
    "# Calculate Confidence Interval using bootstrap for Logistic Regression model (with Kfold CV)\n",
    "\n",
    "#Y train value for Naive model\n",
    "y_true_lr = np.array(rm_Ytest_lr)\n",
    "\n",
    "#Predict_proba value for Naive model\n",
    "y_pred_lr = np.array(lr_log_cv_predict[:,1])\n",
    "\n",
    "\n",
    "n_bootstraps = 100\n",
    "rng_seed = 42  # control reproducibility\n",
    "bootstrapped_scores = []\n",
    "\n",
    "\n",
    "rng = np.random.RandomState(rng_seed)\n",
    "\n",
    "for i in range(n_bootstraps):\n",
    "    indices = rng.randint(0, len(y_pred_lr), len(y_pred_lr))\n",
    "    if len(np.unique(y_true_lr[indices])) < 2:\n",
    "        continue\n",
    "\n",
    "    score = roc_auc_score(y_true_lr[indices], y_pred_lr[indices])\n",
    "    bootstrapped_scores.append(score)\n",
    "    \n",
    "sorted_scores = np.array(bootstrapped_scores)\n",
    "sorted_scores.sort()\n",
    "\n",
    "cv_con_low_lr = sorted_scores[int(0.05 * len(sorted_scores))]\n",
    "cv_con_up_lr = sorted_scores[int(0.95 * len(sorted_scores))]\n",
    "print(\"Confidence interval for the score: [{:0.5f} - {:0.5}]\".format(cv_con_low_lr, cv_con_up_lr))"
   ]
  },
  {
   "cell_type": "markdown",
   "id": "facc109c-5924-4d77-b88f-fbb4919f0d4c",
   "metadata": {},
   "source": [
    "### S1 Question 3: Neural Net Classifier"
   ]
  },
  {
   "cell_type": "code",
   "execution_count": null,
   "id": "a3a47c4f-462d-4d3a-b505-42381f76119f",
   "metadata": {},
   "outputs": [],
   "source": [
    "mlp = MLPClassifier(\n",
    "    hidden_layer_sizes=(100,80,10,1),\n",
    "    activation='relu',\n",
    "    max_iter=500,\n",
    "    alpha=0.10,\n",
    "    solver=\"sgd\",\n",
    "    verbose=10,\n",
    "    random_state=1,\n",
    "    learning_rate='adaptive',\n",
    "    learning_rate_init=0.001,\n",
    ")\n",
    "\n",
    "\n",
    "mlp.fit(rm_Xtrain_lr, rm_Ytrain_lr)\n",
    "\n",
    "mlp_predtrain = mlp.predict_proba(rm_Xtrain_lr)\n",
    "print(\"Train set AUC score: %f\" % roc_auc_score(rm_Ytrain_lr, mlp_predtrain[:,1]))\n",
    "\n",
    "\n",
    "mlp_predtest = mlp.predict_proba(rm_Xtest_lr)\n",
    "print(\"Train set AUC score: %f\" % roc_auc_score(rm_Ytest_lr, mlp_predtest[:,1]))"
   ]
  },
  {
   "cell_type": "markdown",
   "id": "1ed1549a-0226-4cec-9d60-7cfba8bc7474",
   "metadata": {},
   "source": [
    "### Cross Validation\n",
    "This section must run overnight. GRIDSEARCH can take up to 8 hours."
   ]
  },
  {
   "cell_type": "code",
   "execution_count": null,
   "id": "ba9b0a4f-4806-4470-8da0-159716cfb12b",
   "metadata": {},
   "outputs": [],
   "source": [
    " mlp = MLPClassifier(max_iter=200)\n",
    "    parameter_space = { 'hidden_layer_sizes': [(50,20,10,1),(50,10),(20,10,5), (100,80,10,1)], \n",
    "                       'activation': ['relu'], \n",
    "                       'solver': ['sgd','adam'], \n",
    "                       'batch_size': [300,500], \n",
    "                       'alpha': [0.10,0.40,0.60,0.80,1.0],\n",
    "                       'random_state': [1], \n",
    "                       'learning_rate': ['constant', 'adaptive'], \n",
    "                       'learning_rate_init': [0.1, 0.01, 0.001] } \n",
    "    \n",
    "    clf = GridSearchCV(mlp, parameter_space, n_jobs=-1, cv=5) \n",
    "    \n",
    "    clf.fit(rm_Xtrain_lr, rm_Ytrain_lr) \n",
    "    \n",
    "    print('Best parameters found:\\n', clf.best_params_)"
   ]
  },
  {
   "cell_type": "code",
   "execution_count": null,
   "id": "c48c4058-4c19-4dee-a179-1840b8b97607",
   "metadata": {},
   "outputs": [],
   "source": [
    "#Calculate AUC after GridSearch \n",
    "\n",
    "mlp = MLPClassifier(\n",
    "    hidden_layer_sizes=(50,20,10,1),\n",
    "    activation='relu',\n",
    "    solver=\"sgd\",\n",
    "    batch_size = 300,\n",
    "    alpha=0.1,\n",
    "    random_state=1,\n",
    "    learning_rate='constant',\n",
    "    learning_rate_init=0.1,\n",
    "    max_iter=500,\n",
    "    verbose=10, \n",
    ")\n",
    "\n",
    "\n",
    "mlp.fit(rm_Xtrain_lr, rm_Ytrain_lr)\n",
    "\n",
    "mlp_predtrain = mlp.predict_proba(rm_Xtrain_lr)\n",
    "print(\"Train set AUC score: %f\" % roc_auc_score(rm_Ytrain_lr, mlp_predtrain[:,1]))\n",
    "\n",
    "mlp_predtest = mlp.predict_proba(rm_Xtest_lr)\n",
    "print(\"Test set AUC score: %f\" % roc_auc_score(rm_Ytest_lr, mlp_predtest[:,1]))"
   ]
  },
  {
   "cell_type": "code",
   "execution_count": null,
   "id": "85c7619d-62d2-49ff-bf5a-d694916f5e14",
   "metadata": {},
   "outputs": [],
   "source": [
    "#Calculate Confidence Interval After Neural Net GridSearch\n",
    "\n",
    "y_true_nn = np.array(rm_Ytest_lr)\n",
    "y_pred_nn = np.array(mlp_predtest[:,1])\n",
    "\n",
    "n_bootstraps = 100\n",
    "rng_seed = 42\n",
    "bootstrapped_scores = []\n",
    "\n",
    "rng = np.random.RandomState(rng_seed)\n",
    "for i in range(n_bootstraps):\n",
    "    indices = rng.randint(0, len(y_pred_nn), len(y_pred_nn))\n",
    "    if len(np.unique(y_true_nn[indices])) < 2:\n",
    "        continue\n",
    "\n",
    "    score = roc_auc_score(y_true_nn[indices], y_pred_nn[indices])\n",
    "    bootstrapped_scores.append(score)\n",
    "    \n",
    "sorted_scores = np.array(bootstrapped_scores)\n",
    "sorted_scores.sort()\n",
    "\n",
    "confidence_lower_nn = sorted_scores[int(0.05 * len(sorted_scores))]\n",
    "confidence_upper_nn = sorted_scores[int(0.95 * len(sorted_scores))]\n",
    "print(\"Confidence interval for the score: [{:0.5f} - {:0.5}]\".format(confidence_lower_nn, confidence_upper_nn))\n",
    "Confidence interval for the score: [0.50000 - 0.5]"
   ]
  },
  {
   "cell_type": "markdown",
   "id": "13840707-eb42-4ccf-bee6-570fa8d10ac5",
   "metadata": {},
   "source": [
    "## Section 2: GUSTO Study"
   ]
  },
  {
   "cell_type": "markdown",
   "id": "70efe0d8-5580-42b6-bdec-b4a321503991",
   "metadata": {},
   "source": [
    "### S2 Question 1: GLM Model"
   ]
  },
  {
   "cell_type": "code",
   "execution_count": null,
   "id": "6aa54d96-057c-46de-a6c1-521061a9b2fb",
   "metadata": {},
   "outputs": [],
   "source": [
    "# Import Data\n",
    "\n",
    "g_train = pd.read_csv(r'C:\\Users\\vitak\\Downloads\\gusto_train.csv')\n",
    "g_test = pd.read_csv(r'C:\\Users\\vitak\\Downloads\\gusto_test.csv')"
   ]
  },
  {
   "cell_type": "code",
   "execution_count": null,
   "id": "746efbc6-828e-4285-ab7f-211b47e2961e",
   "metadata": {},
   "outputs": [],
   "source": [
    "# Setup xTrain and yTrain\n",
    "\n",
    "g_Xtrain = g_train.drop([\"DAY30\"], axis=1)\n",
    "g_Ytrain = g_train['DAY30']"
   ]
  },
  {
   "cell_type": "code",
   "execution_count": null,
   "id": "1e854b1e-13a0-41c8-9895-dc405373dd44",
   "metadata": {},
   "outputs": [],
   "source": [
    "# Setup xTest and yTest\n",
    "\n",
    "g_Xtest = g_test.drop([\"DAY30\"], axis=1)\n",
    "g_Ytest = g_test['DAY30']"
   ]
  },
  {
   "cell_type": "code",
   "execution_count": null,
   "id": "bad7291a-2166-4376-ab45-922004d13ba6",
   "metadata": {},
   "outputs": [],
   "source": [
    "# Setup xTrain and yTrain\n",
    "\n",
    "g_Xtrain = g_train.drop([\"DAY30\"], axis=1)\n",
    "g_Ytrain = g_train['DAY30']"
   ]
  },
  {
   "cell_type": "code",
   "execution_count": null,
   "id": "be50e8f9-5f97-400f-af9b-6158b246a73f",
   "metadata": {},
   "outputs": [],
   "source": [
    "#Calculate AUC using predict_proba\n",
    "\n",
    "g_rf_prediction = g_rfClassifier.predict_proba(g_Xtest)\n",
    "print(\"Random Forest train set AUC score: %f\" % roc_auc_score(g_Ytest, g_rf_prediction[:,1]))"
   ]
  },
  {
   "cell_type": "code",
   "execution_count": null,
   "id": "efbd74ee-488e-41fb-a158-a38e55aa0c99",
   "metadata": {},
   "outputs": [],
   "source": [
    "# Calculate Confidence Interval using bootstrap for GUSTO Logistic Regression model\n",
    "\n",
    "#Y train value for Logistic Regression model\n",
    "gy_true_lr = np.array(g_Ytest)\n",
    "\n",
    "#Predict_proba value for Logistic Regression model\n",
    "gy_pred_lr = np.array(g_lr_model_prediction[:,1])\n",
    "\n",
    "\n",
    "n_bootstraps = 100\n",
    "rng_seed = 42  # control reproducibility\n",
    "bootstrapped_scores = []\n",
    "\n",
    "\n",
    "rng = np.random.RandomState(rng_seed)\n",
    "\n",
    "for i in range(n_bootstraps):\n",
    "    indices = rng.randint(0, len(gy_pred_lr), len(gy_pred_lr))\n",
    "    if len(np.unique(gy_true_lr[indices])) < 2:\n",
    "        continue\n",
    "\n",
    "    score = roc_auc_score(gy_true_lr[indices], gy_pred_lr[indices])\n",
    "    bootstrapped_scores.append(score)\n",
    "    \n",
    "sorted_scores = np.array(bootstrapped_scores)\n",
    "sorted_scores.sort()\n",
    "\n",
    "gcon_low_lr = sorted_scores[int(0.05 * len(sorted_scores))]\n",
    "gcon_up_lr = sorted_scores[int(0.95 * len(sorted_scores))]\n",
    "print(\"Confidence interval for the score: [{:0.5f} - {:0.5}]\".format(gcon_low_lr, gcon_up_lr))"
   ]
  },
  {
   "cell_type": "markdown",
   "id": "aa85d0ed-c7ea-4188-982e-ee7264ced8b1",
   "metadata": {},
   "source": [
    "### Cross Validation: GUSTO GLM"
   ]
  },
  {
   "cell_type": "code",
   "execution_count": null,
   "id": "d0ca57e4-f651-4377-9352-401ecc32bf5b",
   "metadata": {},
   "outputs": [],
   "source": [
    "#Cross Validation with kfold\n",
    "k = 5\n",
    "g_kf = KFold(n_splits=k, random_state=None)\n",
    "g_model = LogisticRegression(solver= 'liblinear')\n",
    "\n",
    "gresult_lr = cross_val_score(g_model , g_Xtest, g_Ytest, cv = g_kf)\n",
    "print(\"Avg accuracy: {}\".format(gresult_lr.mean()))\n"
   ]
  },
  {
   "cell_type": "code",
   "execution_count": null,
   "id": "43e54fb2-fa92-484f-a80d-5eee061cb057",
   "metadata": {},
   "outputs": [],
   "source": [
    "#LogisticRegressionCV (KFold=5)\n",
    "\n",
    "g_log_cv = LogisticRegressionCV(cv=5, random_state = 0)\n",
    "g_log_cv.fit(g_Xtrain, g_Ytrain)\n",
    "\n",
    "g_log_cv_predict = g_log_cv.predict_proba(g_Xtest)\n",
    "\n",
    "g_lr_auc = roc_auc_score(g_Ytest, g_log_cv_predict[:,1])\n",
    "print(\"GUSTO GLM AUC (with Kfold CV): %f\" % g_lr_auc)"
   ]
  },
  {
   "cell_type": "code",
   "execution_count": null,
   "id": "bca75210-0c30-4234-b901-64951793b34a",
   "metadata": {},
   "outputs": [],
   "source": [
    "# Calculate Confidence Interval using bootstrap for GUSTO Logistic Regression model (with Kfold CV)\n",
    "\n",
    "#Y train value for Logistic Regression model\n",
    "gy_true_cv = np.array(g_Ytest)\n",
    "\n",
    "#Predict_proba value for Logistic Regression model\n",
    "gy_pred_cv = np.array(g_log_cv_predict[:,1])\n",
    "\n",
    "\n",
    "n_bootstraps = 100\n",
    "rng_seed = 42  # control reproducibility\n",
    "bootstrapped_scores = []\n",
    "\n",
    "rng = np.random.RandomState(rng_seed)\n",
    "\n",
    "for i in range(n_bootstraps):\n",
    "    indices = rng.randint(0, len(gy_pred_cv), len(gy_pred_cv))\n",
    "    if len(np.unique(gy_true_cv[indices])) < 2:\n",
    "        continue\n",
    "\n",
    "    score = roc_auc_score(gy_true_cv[indices], gy_pred_cv[indices])\n",
    "    bootstrapped_scores.append(score)\n",
    "    \n",
    "sorted_scores = np.array(bootstrapped_scores)\n",
    "sorted_scores.sort()\n",
    "\n",
    "gcon_low_cv = sorted_scores[int(0.05 * len(sorted_scores))]\n",
    "gcon_up_cv = sorted_scores[int(0.95 * len(sorted_scores))]\n",
    "print(\"Confidence interval for the score: [{:0.5f} - {:0.5}]\".format(gcon_low_cv, gcon_up_cv))"
   ]
  },
  {
   "cell_type": "markdown",
   "id": "01420878-d27e-4990-a53a-a5c54060022d",
   "metadata": {},
   "source": [
    "### S2 Question 2: Ridge Regression Model"
   ]
  },
  {
   "cell_type": "code",
   "execution_count": null,
   "id": "58be9cdb-c178-4a63-9262-e9f40f25d69d",
   "metadata": {},
   "outputs": [],
   "source": [
    "#Run Ridge Regression\n",
    "r_alphas = np.logspace(0,5,100)\n",
    "ridge = RidgeCV(alphas = r_alphas, scoring = 'r2')\n",
    "ridge.fit(g_Xtrain, g_Ytrain)"
   ]
  },
  {
   "cell_type": "code",
   "execution_count": null,
   "id": "d00f1aaf-ada0-45bb-b8ec-12ee6b933ddc",
   "metadata": {},
   "outputs": [],
   "source": [
    "#Calculate AUC\n",
    "grr_prob = ridge.predict(g_Xtest)\n",
    "grr_auc_roc = roc_auc_score(g_Ytest, grr_prob)\n",
    "print(\"Ridge Regression AUC: %f\" % grr_auc_roc)"
   ]
  },
  {
   "cell_type": "code",
   "execution_count": null,
   "id": "46f079c5-f692-4ea6-bb18-13912180565f",
   "metadata": {},
   "outputs": [],
   "source": [
    "# Calculate Confidence Interval using bootstrap for GUSTO Ridge Regression model\n",
    "\n",
    "#Y train value for Logistic Regression model\n",
    "grr_true = np.array(g_Ytest)\n",
    "\n",
    "#Predict_proba value for Logistic Regression model\n",
    "grr_pred = np.array(grr_prob)\n",
    "\n",
    "\n",
    "n_bootstraps = 100\n",
    "rng_seed = 42  # control reproducibility\n",
    "bootstrapped_scores = []\n",
    "\n",
    "rng = np.random.RandomState(rng_seed)\n",
    "\n",
    "for i in range(n_bootstraps):\n",
    "    indices = rng.randint(0, len(grr_pred), len(grr_pred))\n",
    "    if len(np.unique(grr_true[indices])) < 2:\n",
    "        continue\n",
    "\n",
    "    score = roc_auc_score(grr_true[indices], grr_pred[indices])\n",
    "    bootstrapped_scores.append(score)\n",
    "    \n",
    "sorted_scores = np.array(bootstrapped_scores)\n",
    "sorted_scores.sort()\n",
    "\n",
    "grr_low = sorted_scores[int(0.05 * len(sorted_scores))]\n",
    "grr_up = sorted_scores[int(0.95 * len(sorted_scores))]\n",
    "print(\"Confidence interval for the score: [{:0.5f} - {:0.5}]\".format(grr_low, grr_up))"
   ]
  },
  {
   "cell_type": "code",
   "execution_count": null,
   "id": "30beb0d4-49b7-407d-82ae-01baceffbf8b",
   "metadata": {},
   "outputs": [],
   "source": [
    "### Cross Validation: GUSTO Ridge Regression"
   ]
  },
  {
   "cell_type": "code",
   "execution_count": null,
   "id": "82e17700-ffd6-45ae-ba84-2831dbf11a8e",
   "metadata": {},
   "outputs": [],
   "source": [
    "#Cross Validation with kfold\n",
    "k = 5\n",
    "kf = KFold(n_splits=k, random_state=None)\n",
    "model1 = RidgeCV(alphas= r_alphas, cv = k)\n",
    "\n",
    "result = cross_val_score(model1 , g_Xtest, g_Ytest, cv = kf)\n",
    "print(\"Avg accuracy: {}\".format(result.mean()))"
   ]
  },
  {
   "cell_type": "code",
   "execution_count": null,
   "id": "089b6a47-89d5-4c5a-a0b9-c2e4abb2f082",
   "metadata": {},
   "outputs": [],
   "source": [
    "#Run RidgeCV with KFold=5\n",
    "\n",
    "grr_cv = RidgeCV(cv=5)\n",
    "grr_cv.fit(g_Xtrain,g_Ytrain)\n",
    "\n",
    "grr_pred_cv = grr_cv.predict(g_Xtest)\n",
    "\n",
    "gcv_auc_roc = roc_auc_score(g_Ytest, grr_pred_cv)\n",
    "print(\"Training AUC: %f\" % gcv_auc_roc)"
   ]
  },
  {
   "cell_type": "code",
   "execution_count": null,
   "id": "69c7b4aa-96bb-46b4-aee7-21bb45124195",
   "metadata": {},
   "outputs": [],
   "source": [
    "# Calculate Confidence Interval using bootstrap for GUSTO Ridge Regression model (with Kfold CV)\n",
    "\n",
    "#Y train value for Logistic Regression model\n",
    "grr_true_cv = np.array(g_Ytest)\n",
    "\n",
    "#Predict value for Ridge Regression model\n",
    "grr_pred_cv1 = np.array(grr_pred_cv)\n",
    "\n",
    "\n",
    "n_bootstraps = 100\n",
    "rng_seed = 42  # control reproducibility\n",
    "bootstrapped_scores = []\n",
    "\n",
    "rng = np.random.RandomState(rng_seed)\n",
    "\n",
    "for i in range(n_bootstraps):\n",
    "    indices = rng.randint(0, len(grr_pred_cv1), len(grr_pred_cv1))\n",
    "    if len(np.unique(grr_true_cv[indices])) < 2:\n",
    "        continue\n",
    "\n",
    "    score = roc_auc_score(grr_true_cv[indices], grr_pred_cv1[indices])\n",
    "    bootstrapped_scores.append(score)\n",
    "    \n",
    "sorted_scores = np.array(bootstrapped_scores)\n",
    "sorted_scores.sort()\n",
    "\n",
    "grr_low_cv = sorted_scores[int(0.05 * len(sorted_scores))]\n",
    "grr_up_cv = sorted_scores[int(0.95 * len(sorted_scores))]\n",
    "print(\"Confidence interval for the score: [{:0.5f} - {:0.5}]\".format(grr_low_cv, grr_up_cv))"
   ]
  },
  {
   "cell_type": "markdown",
   "id": "e3417d6a-6d25-4a33-9dd1-3709a00910bd",
   "metadata": {},
   "source": [
    "### S2 Question 3: GUSTO Neural Net Model"
   ]
  },
  {
   "cell_type": "code",
   "execution_count": null,
   "id": "94e871ff-7e8e-4d77-b1c9-5f5b385a4473",
   "metadata": {},
   "outputs": [],
   "source": [
    "gmlp = MLPClassifier(\n",
    "    hidden_layer_sizes=(100,80,10,1),\n",
    "    activation='relu',\n",
    "    max_iter=500,\n",
    "    alpha=0.10,\n",
    "    solver=\"sgd\",\n",
    "    verbose=10,\n",
    "    random_state=1,\n",
    "    learning_rate='adaptive',\n",
    "    learning_rate_init=0.001,\n",
    ")\n",
    "\n",
    "\n",
    "gmlp.fit(g_Xtrain, g_Ytrain)\n",
    "\n",
    "gmlp_predtrain = gmlp.predict_proba(g_Xtrain)\n",
    "print(\"Train set AUC score: %f\" % roc_auc_score(g_Ytrain, gmlp_predtrain[:,1]))\n",
    "\n",
    "\n",
    "gmlp_predtest = gmlp.predict_proba(g_Xtest)\n",
    "print(\"Train set AUC score: %f\" % roc_auc_score(g_Ytest, gmlp_predtest[:,1]))"
   ]
  },
  {
   "cell_type": "markdown",
   "id": "52e267fc-53e2-4806-a2f6-e06f61a2ca84",
   "metadata": {},
   "source": [
    "### Cross Validation: GUSTO Neural Net Model"
   ]
  },
  {
   "cell_type": "code",
   "execution_count": null,
   "id": "11fc6f3d-4ca8-42a0-a49e-38ad240fa403",
   "metadata": {},
   "outputs": [],
   "source": [
    "gmlp = MLPClassifier(max_iter=200) \n",
    "parameter_space = { 'hidden_layer_sizes': [(50,20,10,1),(50,10),(20,10,5), (100,80,10,1)], \n",
    "                   'activation': ['relu'], \n",
    "                   'solver': ['sgd','adam'], \n",
    "                   'batch_size': [300,500], \n",
    "                   'alpha': [0.10,0.40,0.60,0.80,1.0], \n",
    "                   'random_state': [1], \n",
    "                   'learning_rate': ['constant', 'adaptive'],\n",
    "                   'learning_rate_init': [0.1, 0.01, 0.001] }\n",
    "\n",
    "gclf = GridSearchCV(gmlp, parameter_space, n_jobs=-1, cv=5) \n",
    "gclf.fit(g_Xtrain, g_Ytrain) \n",
    "\n",
    "print('Best parameters found:\\n', gclf.best_params_)"
   ]
  },
  {
   "cell_type": "code",
   "execution_count": null,
   "id": "82ad7daf-074e-4db0-9bb8-af32ad224256",
   "metadata": {},
   "outputs": [],
   "source": [
    "#Calculate AUC after GridSearch \n",
    "\n",
    "gmlp2 = MLPClassifier(\n",
    "    hidden_layer_sizes=(50,10),\n",
    "    activation='relu',\n",
    "    max_iter=100,\n",
    "    alpha=0.60,\n",
    "    solver=\"sgd\",\n",
    "    verbose=10,\n",
    "    random_state=1,\n",
    "    learning_rate='constant',\n",
    "    learning_rate_init=0.01,\n",
    "    batch_size = 500 \n",
    ")\n",
    "\n",
    "\n",
    "gmlp2.fit(g_Xtrain, g_Ytrain)\n",
    "\n",
    "gmlp_predtrain2 = gmlp2.predict_proba(g_Xtrain)\n",
    "print(\"Train set AUC score: %f\" % roc_auc_score(g_Ytrain, gmlp_predtrain2[:,1]))\n",
    "\n",
    "gmlp_predtest2 = gmlp2.predict_proba(g_Xtest)"
   ]
  },
  {
   "cell_type": "code",
   "execution_count": null,
   "id": "2e208747-6fbf-4b05-9517-3e8bcf1a013c",
   "metadata": {},
   "outputs": [],
   "source": [
    "#Calculate Confidence Interval After Neural Net GridSearch GUSTO\n",
    "\n",
    "y_true_g = np.array(g_Ytest)\n",
    "y_pred_g = np.array(gmlp_predtest2[:,1])\n",
    "\n",
    "n_bootstraps = 100\n",
    "rng_seed = 42\n",
    "bootstrapped_scores = []\n",
    "\n",
    "rng = np.random.RandomState(rng_seed)\n",
    "for i in range(n_bootstraps):\n",
    "    indices = rng.randint(0, len(y_pred_g), len(y_pred_g))\n",
    "    if len(np.unique(y_true_g[indices])) < 2:\n",
    "        continue\n",
    "\n",
    "    score = roc_auc_score(y_true_g[indices], y_pred_g[indices])\n",
    "    bootstrapped_scores.append(score)\n",
    "    \n",
    "sorted_scores = np.array(bootstrapped_scores)\n",
    "sorted_scores.sort()\n",
    "\n",
    "confidence_lower_nng = sorted_scores[int(0.05 * len(sorted_scores))]\n",
    "confidence_upper_nng = sorted_scores[int(0.95 * len(sorted_scores))]\n",
    "print(\"Confidence interval for the score: [{:0.5f} - {:0.5}]\".format(confidence_lower_nng, confidence_upper_nng))"
   ]
  }
 ],
 "metadata": {
  "kernelspec": {
   "display_name": "Python 3 (ipykernel)",
   "language": "python",
   "name": "python3"
  },
  "language_info": {
   "codemirror_mode": {
    "name": "ipython",
    "version": 3
   },
   "file_extension": ".py",
   "mimetype": "text/x-python",
   "name": "python",
   "nbconvert_exporter": "python",
   "pygments_lexer": "ipython3",
   "version": "3.10.9"
  }
 },
 "nbformat": 4,
 "nbformat_minor": 5
}
