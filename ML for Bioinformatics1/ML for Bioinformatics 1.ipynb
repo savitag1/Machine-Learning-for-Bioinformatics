{
 "cells": [
  {
   "cell_type": "markdown",
   "id": "61275829-cb11-491e-a152-667037f0f237",
   "metadata": {},
   "source": [
    "# MScBMI 33200 – Assignment 1\n",
    "### Savita K Gupta\n",
    "### 10 April 2023"
   ]
  },
  {
   "cell_type": "code",
   "execution_count": null,
   "id": "5d0f18a5-e8d6-4303-9b18-f90e2763be70",
   "metadata": {},
   "outputs": [],
   "source": [
    "# import required modules\n",
    "\n",
    "import csv\n",
    "import pandas as pd\n",
    "import numpy as np\n",
    "from scipy import stats\n",
    "import seaborn as sns\n",
    "import matplotlib.pyplot as plt\n"
   ]
  },
  {
   "cell_type": "markdown",
   "id": "a081050a-4426-482a-973b-f94d74754e92",
   "metadata": {},
   "source": [
    "## Section 1: ER Bots 30-Day Readmission Study"
   ]
  },
  {
   "cell_type": "markdown",
   "id": "7327b4bb-ca35-4e8d-900c-10aac2e3db51",
   "metadata": {},
   "source": [
    "### Question 1.1"
   ]
  },
  {
   "cell_type": "code",
   "execution_count": null,
   "id": "97e7e6ea-b7e1-440a-88f7-6bee235f6d35",
   "metadata": {},
   "outputs": [],
   "source": [
    "# Create your dataframe\n",
    "\n",
    "encounter_info = pd.read_csv(r'C:\\Users\\vitak\\Downloads\\Assignment 1 Datasets\\readmissions\\encounter_info.csv')\n",
    "encounter_labs = pd.read_csv(r'C:\\Users\\vitak\\Downloads\\Assignment 1 Datasets\\readmissions\\encounter_labs.csv')\n",
    "readmissions = pd.read_csv(r'C:\\Users\\vitak\\Downloads\\Assignment 1 Datasets\\readmissions\\readmission_outcome.csv')\n",
    "\n",
    "alldata = pd.merge(pd.merge(encounter_info,encounter_labs,on='Encounter_ID'),readmissions,on='Encounter_ID')\n",
    "   \n",
    "alldata.head()"
   ]
  },
  {
   "cell_type": "code",
   "execution_count": null,
   "id": "66e7f5ed-e7d0-4554-a0f6-a060743f74a4",
   "metadata": {},
   "outputs": [],
   "source": [
    "#Age: Means and Standard Deviations\n",
    "\n",
    "age_re_yes = alldata.loc[alldata['outcome']==1, 'PatientEncounterAge'].mean()\n",
    "\n",
    "age_re_yes_sd = alldata.loc[alldata['outcome']==1, 'PatientEncounterAge'].std()\n",
    "\n",
    "age_re_no = alldata.loc[alldata['outcome']==0, 'PatientEncounterAge'].mean()\n",
    "                            \n",
    "age_re_no_sd = alldata.loc[alldata['outcome']==0, 'PatientEncounterAge'].std()\n",
    "                            \n",
    "print(age_re_yes)\n",
    "print(age_re_no)\n",
    "print(age_re_yes_sd)\n",
    "print(age_re_no_sd) "
   ]
  },
  {
   "cell_type": "code",
   "execution_count": null,
   "id": "d1e63f7d-a02e-4c76-bb40-0afd4458b922",
   "metadata": {},
   "outputs": [],
   "source": [
    "#chi square to compare categorical features\n",
    "\n",
    "alldata_2 = pd.merge(encounter_info,readmissions,on='Encounter_ID')\n",
    "\n",
    "outcome1 = alldata_2.loc[:,\"outcome\"]\n",
    "age1 = alldata_2.loc[:,\"PatientEncounterAge\"]\n",
    "gender1 = alldata_2.loc[:,\"PatientGender\"]\n",
    "race1 = alldata_2.loc[:,\"PatientRace\"]\n",
    "\n",
    "#Age CHI2 Analysis\n",
    "age_chi2= pd.crosstab(age1, outcome1)\n",
    "print(age_chi2)\n",
    "print(stats.chi2_contingency(age_chi2))\n",
    "\n",
    "\n",
    "\n",
    "#Gender CHI2 Analysis\n",
    "gender_chi2= pd.crosstab(gender1, outcome1)\n",
    "print(gender_chi2)\n",
    "print(stats.chi2_contingency(gender_chi2))\n",
    "\n",
    "\n",
    "#Race CHI2 Analysis\n",
    "race_chi2= pd.crosstab(race1, outcome1)\n",
    "print(race_chi2)\n",
    "print(stats.chi2_contingency(race_chi2))"
   ]
  },
  {
   "cell_type": "code",
   "execution_count": null,
   "id": "f92221fa-aaf6-4ede-ac89-339e18fffcf7",
   "metadata": {},
   "outputs": [],
   "source": [
    "#In this section, we calculate the encounters with(out) 30-day readmissions.\n",
    "#Here, \"Encounter\" is defined as every patient visit, including all of the \"LABS\" dataset -- where patients have more than one visit.\n",
    "\n",
    "def mysummary(colname,condition):\n",
    "    total = len(alldata[colname])\n",
    "    n_yes = len(alldata[(alldata[colname]==condition)&\n",
    "                    (alldata['outcome']==1)])\n",
    "    n_no = len(alldata[(alldata[colname]==condition)&\n",
    "                    (alldata['outcome']==0)])\n",
    "    per_yes = (n_yes/total)*100\n",
    "    per_no = (n_no/total)*100\n",
    "    return [condition,n_yes, per_yes, n_no, per_no]\n",
    "\n",
    "fem = mysummary('PatientGender','Female')\n",
    "male = mysummary('PatientGender','Male')\n",
    "black = mysummary('PatientRace','African American')\n",
    "white = mysummary('PatientRace','White')\n",
    "asian = mysummary('PatientRace','Asian')\n",
    "unknown = mysummary('PatientRace','Unknown')\n",
    "\n",
    "Q1_table = [male,fem,black,white,asian,unknown]\n",
    "\n",
    "my_table = pd.DataFrame(Q1_table, columns = [\"Summary\",\"Encounters with 30-day readmissions(n)\",\"%\",\"Encounters without 30-day readmissions(n)\",\"%\"])\n",
    "\n",
    "display(my_table)"
   ]
  },
  {
   "cell_type": "markdown",
   "id": "3d79b0ba-7546-4e57-89aa-a9b87f660703",
   "metadata": {},
   "source": [
    "### Question 1.2"
   ]
  },
  {
   "cell_type": "code",
   "execution_count": null,
   "id": "5857159f-2b1d-44de-a8c6-d897946a0bf8",
   "metadata": {},
   "outputs": [],
   "source": [
    "#simplify the \"alldata\" data set so you analyze only the last-observed lab values for each encounter\n",
    "\n",
    "# drop irrelevant columns\n",
    "alldata.drop([\n",
    "    'Patient_ID',\n",
    "    'AdmissionStartDate',\n",
    "    'AdmissionEndDate',\n",
    "],axis=1,inplace=True)\n",
    "\n",
    "alldata_pruned = alldata.drop_duplicates(keep='last')\n",
    "\n",
    "display(alldata_pruned)\n",
    "alldata_pruned.info()\n",
    "alldata_pruned.describe()"
   ]
  },
  {
   "cell_type": "markdown",
   "id": "cc85d248-f956-4470-9af4-7a764044743e",
   "metadata": {},
   "source": [
    "### Question 1.3"
   ]
  },
  {
   "cell_type": "code",
   "execution_count": null,
   "id": "c976ca4c-0034-4d83-a4ce-3f6f202c8420",
   "metadata": {},
   "outputs": [],
   "source": [
    "#Use the Lab date to create a column for Years.\n",
    "\n",
    "alldata[\"Year\"] = alldata.Lab_DTTM.str[:4]\n",
    "\n",
    "alldata[\"Year\"] = alldata[\"Year\"].astype(int)\n",
    "\n",
    "#display(alldata)"
   ]
  },
  {
   "cell_type": "code",
   "execution_count": null,
   "id": "cf380719-7f53-4742-ad55-32cb085d2286",
   "metadata": {},
   "outputs": [],
   "source": [
    "#Train Test Split\n",
    "\n",
    "train_data = alldata[alldata[\"Year\"] <= 2003]\n",
    "\n",
    "display(train_data)"
   ]
  },
  {
   "cell_type": "code",
   "execution_count": null,
   "id": "b3ca21de-7c85-45a5-b36e-68caec891fa5",
   "metadata": {},
   "outputs": [],
   "source": [
    "#Test Test Split\n",
    "\n",
    "test_data = alldata[alldata[\"Year\"] > 2003]\n",
    "\n",
    "display(test_data)"
   ]
  },
  {
   "cell_type": "code",
   "execution_count": null,
   "id": "aaf52db9-aea0-4c8b-a5d5-4fc0a6a723fc",
   "metadata": {},
   "outputs": [],
   "source": [
    "#Test Data\n",
    "\n",
    "test_yes = len(test_data[(test_data['outcome']==1)])\n",
    "perc_test_yes = (test_yes/(len(test_data['outcome'])))*100\n",
    "test_no = len(test_data[(test_data['outcome']==0)])\n",
    "perc_test_no = (test_no/(len(test_data['outcome'])))*100\n",
    "\n",
    "print(test_yes,perc_test_yes,test_no,perc_test_no)"
   ]
  },
  {
   "cell_type": "code",
   "execution_count": null,
   "id": "f34bd89c-1918-4a76-95ff-7f7a9d110407",
   "metadata": {},
   "outputs": [],
   "source": [
    "#Section 1 Q3\n",
    "#Train Data\n",
    "\n",
    "train_yes = len(train_data[(train_data['outcome']==1)])\n",
    "perc_train_yes = (train_yes/(len(train_data['outcome'])))*100\n",
    "train_no = len(train_data[(train_data['outcome']==0)])\n",
    "perc_train_no = (train_no/(len(train_data['outcome'])))*100\n",
    "\n",
    "print(train_yes,perc_train_yes,train_no,perc_train_no)"
   ]
  },
  {
   "cell_type": "markdown",
   "id": "13840707-eb42-4ccf-bee6-570fa8d10ac5",
   "metadata": {},
   "source": [
    "## Section 2: GUSTO Study"
   ]
  },
  {
   "cell_type": "code",
   "execution_count": null,
   "id": "0f4b46b9-d4b0-453a-a946-57a6db1db124",
   "metadata": {},
   "outputs": [],
   "source": [
    "#Section Q1) Create your dataframe\n",
    "\n",
    "gusto = pd.read_csv(r'C:\\Users\\vitak\\Downloads\\gusto_data.csv')\n",
    "\n",
    "#display(alldata)    \n",
    "gusto.head()"
   ]
  },
  {
   "cell_type": "markdown",
   "id": "70efe0d8-5580-42b6-bdec-b4a321503991",
   "metadata": {},
   "source": [
    "### Question 2.1"
   ]
  },
  {
   "cell_type": "code",
   "execution_count": null,
   "id": "6aa54d96-057c-46de-a6c1-521061a9b2fb",
   "metadata": {},
   "outputs": [],
   "source": [
    "#GUSTO Age Means and Standard Deviations\n",
    "\n",
    "age_g_yes = gusto.loc[gusto['DAY30']==1, 'AGE'].mean()\n",
    "\n",
    "age_g_yes_sd = gusto.loc[gusto['DAY30']==1, 'AGE'].std()\n",
    "\n",
    "age_g_no = gusto.loc[gusto['DAY30']==0, 'AGE'].mean()\n",
    "                            \n",
    "age_g_no_sd = gusto.loc[gusto['DAY30']==0, 'AGE'].std()\n",
    "                            \n",
    "print(age_g_yes)\n",
    "print(age_g_yes_sd)\n",
    "print(age_g_no)\n",
    "print(age_g_no_sd)    "
   ]
  },
  {
   "cell_type": "code",
   "execution_count": null,
   "id": "746efbc6-828e-4285-ab7f-211b47e2961e",
   "metadata": {},
   "outputs": [],
   "source": [
    "#GUSTO Gender and Group Summary\n",
    "\n",
    "def gsummary(colname,condition):\n",
    "    total = len(gusto[colname])\n",
    "    n_yes = len(gusto[(gusto[colname]==condition)&\n",
    "                    (gusto['DAY30']==1)])\n",
    "    n_no = len(gusto[(gusto[colname]==condition)&\n",
    "                    (gusto['DAY30']==0)])\n",
    "    per_yes = (n_yes/total)*100\n",
    "    per_no = (n_no/total)*100\n",
    "    return [condition,n_yes, per_yes, n_no, per_no]\n",
    "\n",
    "gmale = gsummary('SEX',0)\n",
    "gfem = gsummary('SEX',1)\n",
    "s2 = gsummary('GROUP','sample2')\n",
    "s4 = gsummary('GROUP','sample4')\n",
    "s5 = gsummary('GROUP','sample5')\n",
    "west = gsummary('GROUP','west')\n",
    "\n",
    "Q2_table = [gmale,gfem,s2,s4,s5,west]\n",
    "\n",
    "my_gtable = pd.DataFrame(Q2_table, columns = [\"Summary\",\"Patients who died within 30 days(n)\",\"%\",\"Patients who were alive at 30 days(n)\",\"%\"])\n",
    "\n",
    "display(my_gtable)"
   ]
  },
  {
   "cell_type": "code",
   "execution_count": null,
   "id": "1e854b1e-13a0-41c8-9895-dc405373dd44",
   "metadata": {},
   "outputs": [],
   "source": [
    "#chi square to compare categorical features - for P Values\n",
    "\n",
    "outcome2 = gusto.loc[:,\"DAY30\"]\n",
    "age2 = gusto.loc[:,\"AGE\"]\n",
    "gender2 = gusto.loc[:,\"SEX\"]\n",
    "race2 = gusto.loc[:,\"GROUP\"]\n",
    "\n",
    "#Gusto Age CHI2 Analysis\n",
    "age2_chi2 = pd.crosstab(age2, outcome2)\n",
    "print(age2_chi2)\n",
    "print(stats.chi2_contingency(age2_chi2))\n",
    "\n",
    "# Gusto Gender CHI2 Analysis\n",
    "gender2_chi2= pd.crosstab(gender2, outcome2)\n",
    "print(gender2_chi2)\n",
    "print(stats.chi2_contingency(gender2_chi2))\n",
    "\n",
    "\n",
    "#Gusto Race CHI2 Analysis\n",
    "race2_chi2= pd.crosstab(race2, outcome2)\n",
    "print(race2_chi2)\n",
    "print(stats.chi2_contingency(race2_chi2))"
   ]
  },
  {
   "cell_type": "markdown",
   "id": "ed63da2e-225d-4ba1-af33-1707162e52d9",
   "metadata": {},
   "source": [
    "### Question 2.2"
   ]
  },
  {
   "cell_type": "code",
   "execution_count": null,
   "id": "be50e8f9-5f97-400f-af9b-6158b246a73f",
   "metadata": {},
   "outputs": [],
   "source": [
    "#Split GUSTO Data into Training and Test Sets.\n",
    "\n",
    "#Train Data (sample 2-5)\n",
    "\n",
    "gtrain_data = gusto[gusto[\"GROUP\"] != \"west\"]\n",
    "\n",
    "display(gtrain_data)"
   ]
  },
  {
   "cell_type": "code",
   "execution_count": null,
   "id": "efbd74ee-488e-41fb-a158-a38e55aa0c99",
   "metadata": {},
   "outputs": [],
   "source": [
    "#GUSTO Test Data (west)\n",
    "\n",
    "gtest_data = gusto[gusto[\"GROUP\"] == \"west\"]\n",
    "\n",
    "display(gtest_data)\n"
   ]
  },
  {
   "cell_type": "code",
   "execution_count": null,
   "id": "b2cbdbf8-379e-4a8c-8760-8050bf914f63",
   "metadata": {},
   "outputs": [],
   "source": [
    "#GUSTO Test/Train Data Summary\n",
    "\n",
    "#Training Data\n",
    "\n",
    "gtrain_yes = len(gtrain_data[(gtrain_data['DAY30']==1)])\n",
    "gperc_train_yes = (gtrain_yes/(len(gtrain_data['DAY30'])))*100\n",
    "gtrain_no = len(gtrain_data[(gtrain_data['DAY30']==0)])\n",
    "gperc_train_no = (gtrain_no/(len(gtrain_data['DAY30'])))*100\n",
    "\n",
    "print(gtrain_yes,gperc_train_yes,gtrain_no,gperc_train_no)"
   ]
  },
  {
   "cell_type": "code",
   "execution_count": null,
   "id": "370c99ea-b430-4e3c-a3e1-023f7bb82f11",
   "metadata": {},
   "outputs": [],
   "source": [
    "#GUSTO Test/Train Data Summary\n",
    "\n",
    "#Section 2 Q2 \n",
    "#Test Data\n",
    "\n",
    "gtest_yes = len(gtest_data[(gtest_data['DAY30']==1)])\n",
    "gperc_test_yes = (gtest_yes/(len(gtest_data['DAY30'])))*100\n",
    "gtest_no = len(gtest_data[(gtest_data['DAY30']==0)])\n",
    "gperc_test_no = (gtest_no/(len(gtest_data['DAY30'])))*100\n",
    "\n",
    "print(gtest_yes,gperc_test_yes,gtest_no,gperc_test_no)"
   ]
  },
  {
   "cell_type": "markdown",
   "id": "01420878-d27e-4990-a53a-a5c54060022d",
   "metadata": {},
   "source": [
    "### Question 2.3"
   ]
  },
  {
   "cell_type": "code",
   "execution_count": null,
   "id": "58be9cdb-c178-4a63-9262-e9f40f25d69d",
   "metadata": {},
   "outputs": [],
   "source": [
    "#Summaries of gtest and gtrain data\n",
    "\n",
    "gtest_data.info()"
   ]
  },
  {
   "cell_type": "code",
   "execution_count": null,
   "id": "d00f1aaf-ada0-45bb-b8ec-12ee6b933ddc",
   "metadata": {},
   "outputs": [],
   "source": [
    "gtrain_data.info()"
   ]
  },
  {
   "cell_type": "code",
   "execution_count": null,
   "id": "46f079c5-f692-4ea6-bb18-13912180565f",
   "metadata": {},
   "outputs": [],
   "source": [
    "gtest_data.describe()"
   ]
  },
  {
   "cell_type": "code",
   "execution_count": null,
   "id": "fe0f7c77-a07a-45d3-8a18-337ca51bd67b",
   "metadata": {},
   "outputs": [],
   "source": [
    "gtrain_data.describe()"
   ]
  }
 ],
 "metadata": {
  "kernelspec": {
   "display_name": "Python 3 (ipykernel)",
   "language": "python",
   "name": "python3"
  },
  "language_info": {
   "codemirror_mode": {
    "name": "ipython",
    "version": 3
   },
   "file_extension": ".py",
   "mimetype": "text/x-python",
   "name": "python",
   "nbconvert_exporter": "python",
   "pygments_lexer": "ipython3",
   "version": "3.10.9"
  }
 },
 "nbformat": 4,
 "nbformat_minor": 5
}
